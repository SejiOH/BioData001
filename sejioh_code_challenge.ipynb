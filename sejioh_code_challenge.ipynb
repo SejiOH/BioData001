{
 "cells": [
  {
   "cell_type": "code",
   "execution_count": 1,
   "metadata": {},
   "outputs": [],
   "source": [
    "# This is one of the most difficult challenge that I have faced \n",
    "# because I do have no experience of data analysis in bioinfomatics.\n",
    "#\n",
    "# So, naturally, I need to look up the internet to find out how to handle the dna sequence.\n",
    "# \n",
    "# Here is the website that I have gained the information:\n",
    "# https://www.kaggle.com/thomasnelson/working-with-dna-sequence-data-for-ml\n",
    "# https://www.kaggle.com/thomasnelson/working-with-dna-sequence-data-for-ml-part-2"
   ]
  },
  {
   "cell_type": "code",
   "execution_count": 2,
   "metadata": {},
   "outputs": [
    {
     "data": {
      "text/plain": [
       "'F:\\\\code_challenge'"
      ]
     },
     "execution_count": 2,
     "metadata": {},
     "output_type": "execute_result"
    }
   ],
   "source": [
    "# Set up the working directory\n",
    "import os\n",
    "os.chdir(\"F:/code_challenge\")\n",
    "os.getcwd()"
   ]
  },
  {
   "cell_type": "code",
   "execution_count": 3,
   "metadata": {
    "scrolled": true
   },
   "outputs": [
    {
     "data": {
      "text/plain": [
       "['code_challenge.pdf',\n",
       " 'splice.data',\n",
       " 'splice.txt',\n",
       " 'sejioh_code_challenge.ipynb',\n",
       " 'sejioh_dna_data_sequence.ipynb']"
      ]
     },
     "execution_count": 3,
     "metadata": {},
     "output_type": "execute_result"
    }
   ],
   "source": [
    "# Check contents in the directory\n",
    "os.listdir()"
   ]
  },
  {
   "cell_type": "code",
   "execution_count": 4,
   "metadata": {},
   "outputs": [],
   "source": [
    "# Prerequites\n",
    "import numpy as np\n",
    "import pandas as pd\n",
    "import re\n",
    "\n",
    "import matplotlib\n",
    "import matplotlib.pyplot as plt"
   ]
  },
  {
   "cell_type": "code",
   "execution_count": 5,
   "metadata": {},
   "outputs": [],
   "source": [
    "# Set the plotting enviroment\n",
    "%matplotlib inline\n",
    "matplotlib.style.use('ggplot')"
   ]
  },
  {
   "cell_type": "code",
   "execution_count": 6,
   "metadata": {
    "scrolled": true
   },
   "outputs": [
    {
     "data": {
      "text/html": [
       "<div>\n",
       "<style scoped>\n",
       "    .dataframe tbody tr th:only-of-type {\n",
       "        vertical-align: middle;\n",
       "    }\n",
       "\n",
       "    .dataframe tbody tr th {\n",
       "        vertical-align: top;\n",
       "    }\n",
       "\n",
       "    .dataframe thead th {\n",
       "        text-align: right;\n",
       "    }\n",
       "</style>\n",
       "<table border=\"1\" class=\"dataframe\">\n",
       "  <thead>\n",
       "    <tr style=\"text-align: right;\">\n",
       "      <th></th>\n",
       "      <th>classes</th>\n",
       "      <th>donor_numbers</th>\n",
       "      <th>DNA_sequences</th>\n",
       "    </tr>\n",
       "  </thead>\n",
       "  <tbody>\n",
       "    <tr>\n",
       "      <th>0</th>\n",
       "      <td>EI</td>\n",
       "      <td>ATRINS-DONOR-521</td>\n",
       "      <td>CCAGCTGCATCACAGGAGGCCAGCGAGCAGG...</td>\n",
       "    </tr>\n",
       "    <tr>\n",
       "      <th>1</th>\n",
       "      <td>EI</td>\n",
       "      <td>ATRINS-DONOR-905</td>\n",
       "      <td>AGACCCGCCGGGAGGCGGAGGACCTGCAGGG...</td>\n",
       "    </tr>\n",
       "    <tr>\n",
       "      <th>2</th>\n",
       "      <td>EI</td>\n",
       "      <td>BABAPOE-DONOR-30</td>\n",
       "      <td>GAGGTGAAGGACGTCCTTCCCCAGGAGCCGG...</td>\n",
       "    </tr>\n",
       "    <tr>\n",
       "      <th>3</th>\n",
       "      <td>EI</td>\n",
       "      <td>BABAPOE-DONOR-867</td>\n",
       "      <td>GGGCTGCGTTGCTGGTCACATTCCTGGCAGGT...</td>\n",
       "    </tr>\n",
       "    <tr>\n",
       "      <th>4</th>\n",
       "      <td>EI</td>\n",
       "      <td>BABAPOE-DONOR-2817</td>\n",
       "      <td>GCTCAGCCCCCAGGTCACCCAGGAACTGACGTG...</td>\n",
       "    </tr>\n",
       "  </tbody>\n",
       "</table>\n",
       "</div>"
      ],
      "text/plain": [
       "  classes           donor_numbers  \\\n",
       "0      EI        ATRINS-DONOR-521   \n",
       "1      EI        ATRINS-DONOR-905   \n",
       "2      EI        BABAPOE-DONOR-30   \n",
       "3      EI       BABAPOE-DONOR-867   \n",
       "4      EI      BABAPOE-DONOR-2817   \n",
       "\n",
       "                                       DNA_sequences  \n",
       "0                 CCAGCTGCATCACAGGAGGCCAGCGAGCAGG...  \n",
       "1                 AGACCCGCCGGGAGGCGGAGGACCTGCAGGG...  \n",
       "2                 GAGGTGAAGGACGTCCTTCCCCAGGAGCCGG...  \n",
       "3                GGGCTGCGTTGCTGGTCACATTCCTGGCAGGT...  \n",
       "4               GCTCAGCCCCCAGGTCACCCAGGAACTGACGTG...  "
      ]
     },
     "execution_count": 6,
     "metadata": {},
     "output_type": "execute_result"
    }
   ],
   "source": [
    "# Upload the dataset\n",
    "data = pd.read_csv('splice.data', names=['classes', 'donor_numbers', 'DNA_sequences'])\n",
    "data.head()"
   ]
  },
  {
   "cell_type": "code",
   "execution_count": 7,
   "metadata": {},
   "outputs": [
    {
     "data": {
      "text/html": [
       "<div>\n",
       "<style scoped>\n",
       "    .dataframe tbody tr th:only-of-type {\n",
       "        vertical-align: middle;\n",
       "    }\n",
       "\n",
       "    .dataframe tbody tr th {\n",
       "        vertical-align: top;\n",
       "    }\n",
       "\n",
       "    .dataframe thead th {\n",
       "        text-align: right;\n",
       "    }\n",
       "</style>\n",
       "<table border=\"1\" class=\"dataframe\">\n",
       "  <thead>\n",
       "    <tr style=\"text-align: right;\">\n",
       "      <th></th>\n",
       "      <th>classes</th>\n",
       "      <th>donor_numbers</th>\n",
       "      <th>DNA_sequences</th>\n",
       "    </tr>\n",
       "  </thead>\n",
       "  <tbody>\n",
       "    <tr>\n",
       "      <th>0</th>\n",
       "      <td>EI</td>\n",
       "      <td>ATRINS-DONOR-521</td>\n",
       "      <td>ccagctgcatcacaggaggccagcgagcagg...</td>\n",
       "    </tr>\n",
       "    <tr>\n",
       "      <th>1</th>\n",
       "      <td>EI</td>\n",
       "      <td>ATRINS-DONOR-905</td>\n",
       "      <td>agacccgccgggaggcggaggacctgcaggg...</td>\n",
       "    </tr>\n",
       "    <tr>\n",
       "      <th>2</th>\n",
       "      <td>EI</td>\n",
       "      <td>BABAPOE-DONOR-30</td>\n",
       "      <td>gaggtgaaggacgtccttccccaggagccgg...</td>\n",
       "    </tr>\n",
       "    <tr>\n",
       "      <th>3</th>\n",
       "      <td>EI</td>\n",
       "      <td>BABAPOE-DONOR-867</td>\n",
       "      <td>gggctgcgttgctggtcacattcctggcaggt...</td>\n",
       "    </tr>\n",
       "    <tr>\n",
       "      <th>4</th>\n",
       "      <td>EI</td>\n",
       "      <td>BABAPOE-DONOR-2817</td>\n",
       "      <td>gctcagcccccaggtcacccaggaactgacgtg...</td>\n",
       "    </tr>\n",
       "  </tbody>\n",
       "</table>\n",
       "</div>"
      ],
      "text/plain": [
       "  classes           donor_numbers  \\\n",
       "0      EI        ATRINS-DONOR-521   \n",
       "1      EI        ATRINS-DONOR-905   \n",
       "2      EI        BABAPOE-DONOR-30   \n",
       "3      EI       BABAPOE-DONOR-867   \n",
       "4      EI      BABAPOE-DONOR-2817   \n",
       "\n",
       "                                       DNA_sequences  \n",
       "0                 ccagctgcatcacaggaggccagcgagcagg...  \n",
       "1                 agacccgccgggaggcggaggacctgcaggg...  \n",
       "2                 gaggtgaaggacgtccttccccaggagccgg...  \n",
       "3                gggctgcgttgctggtcacattcctggcaggt...  \n",
       "4               gctcagcccccaggtcacccaggaactgacgtg...  "
      ]
     },
     "execution_count": 7,
     "metadata": {},
     "output_type": "execute_result"
    }
   ],
   "source": [
    "# Convert the DNA sequences to lowercase letters\n",
    "# and strip whitespaces\n",
    "# and change any non 'acgt' characters to 'n'\n",
    "# to encode each nucleotide characters as an ordinal values\n",
    "\n",
    "my_sequence = (pd.DataFrame(data[['DNA_sequences']]))['DNA_sequences']\n",
    "data['DNA_sequences'] = my_sequence.str.strip()\n",
    "data['DNA_sequences'] = my_sequence.str.lower()\n",
    "\n",
    "data.head()"
   ]
  },
  {
   "cell_type": "code",
   "execution_count": 8,
   "metadata": {},
   "outputs": [],
   "source": [
    "# Define a function to collect all possible overlapping k-mers of specified length\n",
    "# from any sequence string, default size = 6.\n",
    "def getKmers(sequence, size=6):\n",
    "    return [sequence[x:x+size] for x in range(len(sequence)- size + 1)]"
   ]
  },
  {
   "cell_type": "code",
   "execution_count": 9,
   "metadata": {},
   "outputs": [],
   "source": [
    "# Convert the training data sequences into short overlapping k-mers of length 4.\n",
    "data['words'] = data.apply(lambda x: getKmers(x['DNA_sequences']), axis=1)\n",
    "data = data.drop('DNA_sequences', axis=1)"
   ]
  },
  {
   "cell_type": "code",
   "execution_count": 10,
   "metadata": {},
   "outputs": [
    {
     "data": {
      "text/html": [
       "<div>\n",
       "<style scoped>\n",
       "    .dataframe tbody tr th:only-of-type {\n",
       "        vertical-align: middle;\n",
       "    }\n",
       "\n",
       "    .dataframe tbody tr th {\n",
       "        vertical-align: top;\n",
       "    }\n",
       "\n",
       "    .dataframe thead th {\n",
       "        text-align: right;\n",
       "    }\n",
       "</style>\n",
       "<table border=\"1\" class=\"dataframe\">\n",
       "  <thead>\n",
       "    <tr style=\"text-align: right;\">\n",
       "      <th></th>\n",
       "      <th>classes</th>\n",
       "      <th>donor_numbers</th>\n",
       "      <th>words</th>\n",
       "    </tr>\n",
       "  </thead>\n",
       "  <tbody>\n",
       "    <tr>\n",
       "      <th>0</th>\n",
       "      <td>EI</td>\n",
       "      <td>ATRINS-DONOR-521</td>\n",
       "      <td>[      ,       ,       ,       ,       ,      ...</td>\n",
       "    </tr>\n",
       "    <tr>\n",
       "      <th>1</th>\n",
       "      <td>EI</td>\n",
       "      <td>ATRINS-DONOR-905</td>\n",
       "      <td>[      ,       ,       ,       ,       ,      ...</td>\n",
       "    </tr>\n",
       "    <tr>\n",
       "      <th>2</th>\n",
       "      <td>EI</td>\n",
       "      <td>BABAPOE-DONOR-30</td>\n",
       "      <td>[      ,       ,       ,       ,       ,      ...</td>\n",
       "    </tr>\n",
       "    <tr>\n",
       "      <th>3</th>\n",
       "      <td>EI</td>\n",
       "      <td>BABAPOE-DONOR-867</td>\n",
       "      <td>[      ,       ,       ,       ,       ,      ...</td>\n",
       "    </tr>\n",
       "    <tr>\n",
       "      <th>4</th>\n",
       "      <td>EI</td>\n",
       "      <td>BABAPOE-DONOR-2817</td>\n",
       "      <td>[      ,       ,       ,       ,       ,      ...</td>\n",
       "    </tr>\n",
       "  </tbody>\n",
       "</table>\n",
       "</div>"
      ],
      "text/plain": [
       "  classes           donor_numbers  \\\n",
       "0      EI        ATRINS-DONOR-521   \n",
       "1      EI        ATRINS-DONOR-905   \n",
       "2      EI        BABAPOE-DONOR-30   \n",
       "3      EI       BABAPOE-DONOR-867   \n",
       "4      EI      BABAPOE-DONOR-2817   \n",
       "\n",
       "                                               words  \n",
       "0  [      ,       ,       ,       ,       ,      ...  \n",
       "1  [      ,       ,       ,       ,       ,      ...  \n",
       "2  [      ,       ,       ,       ,       ,      ...  \n",
       "3  [      ,       ,       ,       ,       ,      ...  \n",
       "4  [      ,       ,       ,       ,       ,      ...  "
      ]
     },
     "execution_count": 10,
     "metadata": {},
     "output_type": "execute_result"
    }
   ],
   "source": [
    "data.head()"
   ]
  },
  {
   "cell_type": "code",
   "execution_count": 11,
   "metadata": {},
   "outputs": [],
   "source": [
    "data_texts = list(data['words'])\n",
    "\n",
    "for item in range(len(data_texts)):\n",
    "    data_texts[item] = ' '. join(data_texts[item])\n",
    "\n",
    "y_data = data.iloc[:,0].values"
   ]
  },
  {
   "cell_type": "code",
   "execution_count": 12,
   "metadata": {},
   "outputs": [
    {
     "data": {
      "text/plain": [
       "'                                                                           c     cc    cca   ccag  ccagc ccagct cagctg agctgc gctgca ctgcat tgcatc gcatca catcac atcaca tcacag cacagg acagga caggag aggagg ggaggc gaggcc aggcca ggccag gccagc ccagcg cagcga agcgag gcgagc cgagca gagcag agcagg gcaggt caggtc aggtct ggtctg gtctgt tctgtt ctgttc tgttcc gttcca ttccaa tccaag ccaagg caaggg aagggc agggcc gggcct ggcctt gccttc ccttcg cttcga ttcgag tcgagc cgagcc gagcca agccag gccagt ccagtc cagtct agtctg'"
      ]
     },
     "execution_count": 12,
     "metadata": {},
     "output_type": "execute_result"
    }
   ],
   "source": [
    "data_texts[0]"
   ]
  },
  {
   "cell_type": "code",
   "execution_count": 13,
   "metadata": {},
   "outputs": [
    {
     "data": {
      "text/plain": [
       "array(['EI', 'EI', 'EI', ..., 'N', 'N', 'N'], dtype=object)"
      ]
     },
     "execution_count": 13,
     "metadata": {},
     "output_type": "execute_result"
    }
   ],
   "source": [
    "y_data"
   ]
  },
  {
   "cell_type": "code",
   "execution_count": 14,
   "metadata": {},
   "outputs": [],
   "source": [
    "# Create the bag of words model using CountVectorizer()\n",
    "# This is equivalent to k-mers counting\n",
    "# The n-gram size of 4 was previously determined by testing\n",
    "from sklearn.feature_extraction.text import CountVectorizer\n",
    "\n",
    "cv = CountVectorizer(ngram_range=(4, 4))\n",
    "X = cv.fit_transform(data_texts)"
   ]
  },
  {
   "cell_type": "code",
   "execution_count": 15,
   "metadata": {},
   "outputs": [
    {
     "name": "stdout",
     "output_type": "stream",
     "text": [
      "(3190, 100842)\n"
     ]
    }
   ],
   "source": [
    "print(X.shape)"
   ]
  },
  {
   "cell_type": "code",
   "execution_count": 16,
   "metadata": {},
   "outputs": [
    {
     "data": {
      "text/plain": [
       "<matplotlib.axes._subplots.AxesSubplot at 0x244cd3ff7f0>"
      ]
     },
     "execution_count": 16,
     "metadata": {},
     "output_type": "execute_result"
    },
    {
     "data": {
      "image/png": "[encoded data removed]",
      "text/plain": [
       "<Figure size 432x288 with 1 Axes>"
      ]
     },
     "metadata": {},
     "output_type": "display_data"
    }
   ],
   "source": [
    "# Draw a bar chart to check the category\n",
    "data['classes'].value_counts().sort_index().plot.bar()"
   ]
  },
  {
   "cell_type": "code",
   "execution_count": 17,
   "metadata": {},
   "outputs": [
    {
     "data": {
      "text/plain": [
       "Index(['EI', 'IE', 'N'], dtype='object')"
      ]
     },
     "execution_count": 17,
     "metadata": {},
     "output_type": "execute_result"
    }
   ],
   "source": [
    "# To check the category of the data\n",
    "data_cat = data['classes'].astype('category')\n",
    "c = data_cat.values\n",
    "type(c)\n",
    "c.categories"
   ]
  },
  {
   "cell_type": "code",
   "execution_count": 18,
   "metadata": {},
   "outputs": [
    {
     "name": "stdout",
     "output_type": "stream",
     "text": [
      "[('EI',     classes             donor_numbers  \\\n",
      "0        EI          ATRINS-DONOR-521   \n",
      "1        EI          ATRINS-DONOR-905   \n",
      "2        EI          BABAPOE-DONOR-30   \n",
      "3        EI         BABAPOE-DONOR-867   \n",
      "4        EI        BABAPOE-DONOR-2817   \n",
      "5        EI        CHPIGECA-DONOR-378   \n",
      "6        EI        CHPIGECA-DONOR-903   \n",
      "7        EI       CHPIGECA-DONOR-1313   \n",
      "8        EI       GCRHBBA1-DONOR-1260   \n",
      "9        EI       GCRHBBA1-DONOR-1590   \n",
      "10       EI        GCRHBBA6-DONOR-461   \n",
      "11       EI        GCRHBBA6-DONOR-795   \n",
      "12       EI       GIBHBGGL-DONOR-2278   \n",
      "13       EI       GIBHBGGL-DONOR-2624   \n",
      "14       EI       GIBHBGGL-DONOR-7198   \n",
      "15       EI       GIBHBGGL-DONOR-7544   \n",
      "16       EI       HUMA1ATP-DONOR-1972   \n",
      "17       EI       HUMA1ATP-DONOR-7932   \n",
      "18       EI       HUMA1ATP-DONOR-9653   \n",
      "19       EI      HUMA1ATP-DONOR-11057   \n",
      "20       EI      HUMA1GLY2-DONOR-1693   \n",
      "21       EI      HUMA1GLY2-DONOR-2251   \n",
      "22       EI      HUMA1GLY2-DONOR-2540   \n",
      "23       EI      HUMA1GLY2-DONOR-3352   \n",
      "24       EI      HUMA1GLY2-DONOR-3606   \n",
      "25       EI       HUMACCYBA-DONOR-289   \n",
      "26       EI      HUMACCYBA-DONOR-1250   \n",
      "27       EI      HUMACCYBA-DONOR-1624   \n",
      "28       EI      HUMACCYBA-DONOR-2504   \n",
      "29       EI      HUMACCYBA-DONOR-2781   \n",
      "..      ...                       ...   \n",
      "737      EI        HUMVPNP-DONOR-1890   \n",
      "738      EI          LEMHBB-DONOR-216   \n",
      "739      EI          LEMHBB-DONOR-569   \n",
      "740      EI          LEMHBE-DONOR-288   \n",
      "741      EI          LEMHBE-DONOR-633   \n",
      "742      EI          LEMHBG-DONOR-241   \n",
      "743      EI          LEMHBG-DONOR-587   \n",
      "744      EI         LEMHBGA-DONOR-302   \n",
      "745      EI         LEMHBGA-DONOR-648   \n",
      "746      EI          MACHBA-DONOR-121   \n",
      "747      EI          MACHBA-DONOR-443   \n",
      "748      EI        MACHBCA2-DONOR-463   \n",
      "749      EI        MACHBCA2-DONOR-809   \n",
      "750      EI        MACHBGA1-DONOR-465   \n",
      "751      EI        MACHBGA1-DONOR-811   \n",
      "752      EI          MNKHBD-DONOR-347   \n",
      "753      EI          MNKHBD-DONOR-698   \n",
      "754      EI          ORAHBD-DONOR-466   \n",
      "755      EI          ORAHBD-DONOR-819   \n",
      "756      EI        ORAHBG1F-DONOR-269   \n",
      "757      EI        ORAHBG1F-DONOR-614   \n",
      "758      EI        ORAHBG2F-DONOR-269   \n",
      "759      EI        ORAHBG2F-DONOR-615   \n",
      "760      EI        ORAIGECA-DONOR-378   \n",
      "761      EI        ORAIGECA-DONOR-904   \n",
      "762      EI       ORAIGECA-DONOR-1314   \n",
      "763      EI         TARHBB-DONOR-1560   \n",
      "764      EI         TARHBB-DONOR-1909   \n",
      "765      EI          TARHBD-DONOR-468   \n",
      "766      EI          TARHBD-DONOR-817   \n",
      "\n",
      "                                                 words  \n",
      "0    [      ,       ,       ,       ,       ,      ...  \n",
      "1    [      ,       ,       ,       ,       ,      ...  \n",
      "2    [      ,       ,       ,       ,       ,      ...  \n",
      "3    [      ,       ,       ,       ,       ,      ...  \n",
      "4    [      ,       ,       ,       ,       ,      ...  \n",
      "5    [      ,       ,       ,       ,       ,      ...  \n",
      "6    [      ,       ,       ,       ,       ,      ...  \n",
      "7    [      ,       ,       ,       ,       ,      ...  \n",
      "8    [      ,       ,       ,       ,       ,      ...  \n",
      "9    [      ,       ,       ,       ,       ,      ...  \n",
      "10   [      ,       ,       ,       ,       ,      ...  \n",
      "11   [      ,       ,       ,       ,       ,      ...  \n",
      "12   [      ,       ,       ,       ,       ,      ...  \n",
      "13   [      ,       ,       ,       ,       ,      ...  \n",
      "14   [      ,       ,       ,       ,       ,      ...  \n",
      "15   [      ,       ,       ,       ,       ,      ...  \n",
      "16   [      ,       ,       ,       ,       ,      ...  \n",
      "17   [      ,       ,       ,       ,       ,      ...  \n",
      "18   [      ,       ,       ,       ,       ,      ...  \n",
      "19   [      ,       ,       ,       ,       ,      ...  \n",
      "20   [      ,       ,       ,       ,       ,      ...  \n",
      "21   [      ,       ,       ,       ,       ,      ...  \n",
      "22   [      ,       ,       ,       ,       ,      ...  \n",
      "23   [      ,       ,       ,       ,       ,      ...  \n",
      "24   [      ,       ,       ,       ,       ,      ...  \n",
      "25   [      ,       ,       ,       ,       ,      ...  \n",
      "26   [      ,       ,       ,       ,       ,      ...  \n",
      "27   [      ,       ,       ,       ,       ,      ...  \n",
      "28   [      ,       ,       ,       ,       ,      ...  \n",
      "29   [      ,       ,       ,       ,       ,      ...  \n",
      "..                                                 ...  \n",
      "737  [      ,       ,       ,       ,       ,      ...  \n",
      "738  [      ,       ,       ,       ,       ,      ...  \n",
      "739  [      ,       ,       ,       ,       ,      ...  \n",
      "740  [      ,       ,       ,       ,       ,      ...  \n",
      "741  [      ,       ,       ,       ,       ,      ...  \n",
      "742  [      ,       ,       ,       ,       ,      ...  \n",
      "743  [      ,       ,       ,       ,       ,      ...  \n",
      "744  [      ,       ,       ,       ,       ,      ...  \n",
      "745  [      ,       ,       ,       ,       ,      ...  \n",
      "746  [      ,       ,       ,       ,       ,      ...  \n",
      "747  [      ,       ,       ,       ,       ,      ...  \n",
      "748  [      ,       ,       ,       ,       ,      ...  \n",
      "749  [      ,       ,       ,       ,       ,      ...  \n",
      "750  [      ,       ,       ,       ,       ,      ...  \n",
      "751  [      ,       ,       ,       ,       ,      ...  \n",
      "752  [      ,       ,       ,       ,       ,      ...  \n",
      "753  [      ,       ,       ,       ,       ,      ...  \n",
      "754  [      ,       ,       ,       ,       ,      ...  \n",
      "755  [      ,       ,       ,       ,       ,      ...  \n",
      "756  [      ,       ,       ,       ,       ,      ...  \n",
      "757  [      ,       ,       ,       ,       ,      ...  \n",
      "758  [      ,       ,       ,       ,       ,      ...  \n",
      "759  [      ,       ,       ,       ,       ,      ...  \n",
      "760  [      ,       ,       ,       ,       ,      ...  \n",
      "761  [      ,       ,       ,       ,       ,      ...  \n",
      "762  [      ,       ,       ,       ,       ,      ...  \n",
      "763  [      ,       ,       ,       ,       ,      ...  \n",
      "764  [      ,       ,       ,       ,       ,      ...  \n",
      "765  [      ,       ,       ,       ,       ,      ...  \n",
      "766  [      ,       ,       ,       ,       ,      ...  \n",
      "\n",
      "[767 rows x 3 columns]), ('IE',      classes                donor_numbers  \\\n",
      "767       IE          ATRINS-ACCEPTOR-701   \n",
      "768       IE         ATRINS-ACCEPTOR-1678   \n",
      "769       IE         BABAPOE-ACCEPTOR-801   \n",
      "770       IE        BABAPOE-ACCEPTOR-2624   \n",
      "771       IE        BABAPOE-ACCEPTOR-3437   \n",
      "772       IE        CHPIGECA-ACCEPTOR-585   \n",
      "773       IE        CHPIGECA-ACCEPTOR-989   \n",
      "774       IE       CHPIGECA-ACCEPTOR-1392   \n",
      "775       IE       GCRHBBA1-ACCEPTOR-1385   \n",
      "776       IE       GCRHBBA1-ACCEPTOR-1706   \n",
      "777       IE        GCRHBBA6-ACCEPTOR-590   \n",
      "778       IE        GCRHBBA6-ACCEPTOR-920   \n",
      "779       IE       GIBHBGGL-ACCEPTOR-2401   \n",
      "780       IE       GIBHBGGL-ACCEPTOR-3506   \n",
      "781       IE       GIBHBGGL-ACCEPTOR-7321   \n",
      "782       IE       GIBHBGGL-ACCEPTOR-8438   \n",
      "783       IE       HUMA1ATP-ACCEPTOR-7282   \n",
      "784       IE       HUMA1ATP-ACCEPTOR-9382   \n",
      "785       IE      HUMA1ATP-ACCEPTOR-10909   \n",
      "786       IE      HUMA1ATP-ACCEPTOR-11880   \n",
      "787       IE      HUMA1GLY2-ACCEPTOR-2108   \n",
      "788       IE      HUMA1GLY2-ACCEPTOR-2469   \n",
      "789       IE      HUMA1GLY2-ACCEPTOR-3244   \n",
      "790       IE      HUMA1GLY2-ACCEPTOR-3502   \n",
      "791       IE      HUMA1GLY2-ACCEPTOR-4746   \n",
      "792       IE      HUMACCYBA-ACCEPTOR-1121   \n",
      "793       IE      HUMACCYBA-ACCEPTOR-1384   \n",
      "794       IE      HUMACCYBA-ACCEPTOR-2065   \n",
      "795       IE      HUMACCYBA-ACCEPTOR-2599   \n",
      "796       IE      HUMACCYBA-ACCEPTOR-2893   \n",
      "...      ...                          ...   \n",
      "1505      IE        HUMVPNP-ACCEPTOR-2057   \n",
      "1506      IE          LEMHBB-ACCEPTOR-346   \n",
      "1507      IE         LEMHBB-ACCEPTOR-1437   \n",
      "1508      IE          LEMHBE-ACCEPTOR-410   \n",
      "1509      IE         LEMHBE-ACCEPTOR-1474   \n",
      "1510      IE          LEMHBG-ACCEPTOR-364   \n",
      "1511      IE         LEMHBG-ACCEPTOR-1452   \n",
      "1512      IE         LEMHBGA-ACCEPTOR-425   \n",
      "1513      IE        LEMHBGA-ACCEPTOR-1498   \n",
      "1514      IE          MACHBA-ACCEPTOR-238   \n",
      "1515      IE          MACHBA-ACCEPTOR-587   \n",
      "1516      IE        MACHBCA2-ACCEPTOR-586   \n",
      "1517      IE       MACHBCA2-ACCEPTOR-1693   \n",
      "1518      IE        MACHBGA1-ACCEPTOR-588   \n",
      "1519      IE       MACHBGA1-ACCEPTOR-1692   \n",
      "1520      IE          MNKHBD-ACCEPTOR-475   \n",
      "1521      IE         MNKHBD-ACCEPTOR-1583   \n",
      "1522      IE          ORAHBD-ACCEPTOR-596   \n",
      "1523      IE         ORAHBD-ACCEPTOR-1713   \n",
      "1524      IE        ORAHBG1F-ACCEPTOR-391   \n",
      "1525      IE       ORAHBG1F-ACCEPTOR-1486   \n",
      "1526      IE        ORAHBG2F-ACCEPTOR-392   \n",
      "1527      IE       ORAHBG2F-ACCEPTOR-1492   \n",
      "1528      IE        ORAIGECA-ACCEPTOR-583   \n",
      "1529      IE        ORAIGECA-ACCEPTOR-990   \n",
      "1530      IE       ORAIGECA-ACCEPTOR-1393   \n",
      "1531      IE         TARHBB-ACCEPTOR-1686   \n",
      "1532      IE         TARHBB-ACCEPTOR-2748   \n",
      "1533      IE          TARHBD-ACCEPTOR-594   \n",
      "1534      IE         TARHBD-ACCEPTOR-1884   \n",
      "\n",
      "                                                  words  \n",
      "767   [      ,       ,       ,       ,       ,      ...  \n",
      "768   [      ,       ,       ,       ,       ,      ...  \n",
      "769   [      ,       ,       ,       ,       ,      ...  \n",
      "770   [      ,       ,       ,       ,       ,      ...  \n",
      "771   [      ,       ,       ,       ,       ,      ...  \n",
      "772   [      ,       ,       ,       ,       ,      ...  \n",
      "773   [      ,       ,       ,       ,       ,      ...  \n",
      "774   [      ,       ,       ,       ,      g,     g...  \n",
      "775   [      ,       ,       ,       ,      c,     c...  \n",
      "776   [      ,       ,       ,       ,      g,     g...  \n",
      "777   [      ,       ,       ,       ,       ,      ...  \n",
      "778   [      ,       ,       ,       ,       ,      ...  \n",
      "779   [      ,       ,       ,       ,      c,     c...  \n",
      "780   [      ,       ,       ,       ,      c,     c...  \n",
      "781   [      ,       ,       ,       ,      c,     c...  \n",
      "782   [      ,       ,       ,       ,      c,     c...  \n",
      "783   [      ,       ,       ,       ,      g,     g...  \n",
      "784   [      ,       ,       ,       ,      c,     c...  \n",
      "785   [      ,       ,       ,      c,     ca,    ca...  \n",
      "786   [      ,       ,       ,      a,     ac,    ac...  \n",
      "787   [      ,       ,       ,      c,     cc,    cc...  \n",
      "788   [      ,       ,       ,      g,     gt,    gt...  \n",
      "789   [      ,       ,       ,      t,     tc,    tc...  \n",
      "790   [      ,       ,       ,      c,     cc,    cc...  \n",
      "791   [      ,       ,       ,      c,     cc,    cc...  \n",
      "792   [      ,       ,       ,      g,     gg,    gg...  \n",
      "793   [      ,       ,       ,      g,     gc,    gc...  \n",
      "794   [      ,       ,       ,      a,     ag,    ag...  \n",
      "795   [      ,       ,       ,      a,     ag,    ag...  \n",
      "796   [      ,       ,       ,      t,     tc,    tc...  \n",
      "...                                                 ...  \n",
      "1505  [      ,       ,       ,       ,       ,      ...  \n",
      "1506  [      ,       ,       ,       ,       ,      ...  \n",
      "1507  [      ,       ,       ,       ,       ,      ...  \n",
      "1508  [      ,       ,       ,       ,       ,      ...  \n",
      "1509  [      ,       ,       ,       ,       ,      ...  \n",
      "1510  [      ,       ,       ,       ,       ,      ...  \n",
      "1511  [      ,       ,       ,       ,       ,      ...  \n",
      "1512  [      ,       ,       ,       ,       ,      ...  \n",
      "1513  [      ,       ,       ,       ,       ,      ...  \n",
      "1514  [      ,       ,       ,       ,       ,      ...  \n",
      "1515  [      ,       ,       ,       ,       ,      ...  \n",
      "1516  [      ,       ,       ,       ,       ,      ...  \n",
      "1517  [      ,       ,       ,       ,      c,     c...  \n",
      "1518  [      ,       ,       ,       ,       ,      ...  \n",
      "1519  [      ,       ,       ,       ,      c,     c...  \n",
      "1520  [      ,       ,       ,       ,       ,      ...  \n",
      "1521  [      ,       ,       ,       ,       ,      ...  \n",
      "1522  [      ,       ,       ,       ,       ,      ...  \n",
      "1523  [      ,       ,       ,       ,       ,      ...  \n",
      "1524  [      ,       ,       ,       ,       ,      ...  \n",
      "1525  [      ,       ,       ,       ,      c,     c...  \n",
      "1526  [      ,       ,       ,       ,       ,      ...  \n",
      "1527  [      ,       ,       ,       ,      c,     c...  \n",
      "1528  [      ,       ,       ,       ,       ,      ...  \n",
      "1529  [      ,       ,       ,       ,       ,      ...  \n",
      "1530  [      ,       ,       ,       ,      a,     a...  \n",
      "1531  [      ,       ,       ,       ,       ,      ...  \n",
      "1532  [      ,       ,       ,       ,       ,      ...  \n",
      "1533  [      ,       ,       ,       ,       ,      ...  \n",
      "1534  [      ,       ,       ,       ,       ,      ...  \n",
      "\n",
      "[768 rows x 3 columns]), ('N',      classes            donor_numbers  \\\n",
      "1535       N          AGMKPNRSB-NEG-1   \n",
      "1536       N        AGMORS12A-NEG-181   \n",
      "1537       N         AGMORS9A-NEG-481   \n",
      "1538       N       AGMRSKPNI-NEG-1141   \n",
      "1539       N           ATRINS-NEG-841   \n",
      "1540       N          BABA1AT-NEG-181   \n",
      "1541       N         BABAPOE-NEG-1201   \n",
      "1542       N         BABBMYHA-NEG-301   \n",
      "1543       N           BABT1GL-NEG-61   \n",
      "1544       N           CHPAZGLO-NEG-1   \n",
      "1545       N          CHPCD4A-NEG-961   \n",
      "1546       N        CHPCLA108-NEG-841   \n",
      "1547       N        CHPGGGLOG-NEG-961   \n",
      "1548       N         CHPHBBC-NEG-1321   \n",
      "1549       N        CHPHBBPCH-NEG-301   \n",
      "1550       N       CHPHBBPCH-NEG-4861   \n",
      "1551       N            CHPHPA2-NEG-1   \n",
      "1552       N         CHPHPA3-NEG-2041   \n",
      "1553       N           CHPINVOL-NEG-1   \n",
      "1554       N        CHPMHCBAA-NEG-841   \n",
      "1555       N           CHPP44-NEG-481   \n",
      "1556       N        CHPRGITX-NEG-1441   \n",
      "1557       N          CHPRSA-NEG-2161   \n",
      "1558       N        CHPRSALPI-NEG-481   \n",
      "1559       N          GCRHBBA1-NEG-61   \n",
      "1560       N        GCRRSAGAB-NEG-121   \n",
      "1561       N        GIBHBGGL-NEG-3301   \n",
      "1562       N        GIBHBGGL-NEG-7861   \n",
      "1563       N        GIBIL2LTR-NEG-241   \n",
      "1564       N         GORHBBPG-NEG-181   \n",
      "...      ...                      ...   \n",
      "3160       N        HUMXYES2-NEG-1741   \n",
      "3161       N         HUMYTEST-NEG-301   \n",
      "3162       N           HUMZFX-NEG-781   \n",
      "3163       N          HUMZFY-NEG-2341   \n",
      "3164       N          HUMZNF8-NEG-661   \n",
      "3165       N        LEMHBDPS-NEG-1441   \n",
      "3166       N          LEMHBGA-NEG-361   \n",
      "3167       N          MACAPOA-NEG-961   \n",
      "3168       N          MACAPOE-NEG-181   \n",
      "3169       N           MACHBA-NEG-421   \n",
      "3170       N          MACHBB-NEG-4141   \n",
      "3171       N          MACHBDPS2-NEG-1   \n",
      "3172       N        MACHBPEA-NEG-2161   \n",
      "3173       N        MACHBPEA-NEG-6721   \n",
      "3174       N       MACHBPSBD-NEG-1141   \n",
      "3175       N        MACPEPSG-NEG-2161   \n",
      "3176       N            MACRSMB-NEG-1   \n",
      "3177       N         MNKHAPSE-NEG-901   \n",
      "3178       N        MNKHAPSE-NEG-5461   \n",
      "3179       N        MNKHBPSBD-NEG-961   \n",
      "3180       N         ORAHBA01-NEG-121   \n",
      "3181       N         ORAHBBE-NEG-2581   \n",
      "3182       N       ORAHBBPSE-NEG-2101   \n",
      "3183       N       ORAHBBPSE-NEG-6661   \n",
      "3184       N         ORAHBG2F-NEG-181   \n",
      "3185       N       ORAHBPSBD-NEG-2881   \n",
      "3186       N        ORAINVOL-NEG-2161   \n",
      "3187       N          ORARGIT-NEG-241   \n",
      "3188       N           TARHBB-NEG-541   \n",
      "3189       N          TARHBD-NEG-1981   \n",
      "\n",
      "                                                  words  \n",
      "1535  [      ,       ,       ,       ,       ,      ...  \n",
      "1536  [      ,       ,       ,       ,       ,      ...  \n",
      "1537  [      ,       ,       ,       ,       ,      ...  \n",
      "1538  [      ,       ,       ,       ,       ,      ...  \n",
      "1539  [      ,       ,       ,       ,       ,      ...  \n",
      "1540  [      ,       ,       ,       ,       ,      ...  \n",
      "1541  [      ,       ,       ,       ,       ,      ...  \n",
      "1542  [      ,       ,       ,       ,       ,      ...  \n",
      "1543  [      ,       ,       ,       ,       ,      ...  \n",
      "1544  [      ,       ,       ,       ,       ,      ...  \n",
      "1545  [      ,       ,       ,       ,       ,      ...  \n",
      "1546  [      ,       ,       ,       ,       ,      ...  \n",
      "1547  [      ,       ,       ,       ,       ,      ...  \n",
      "1548  [      ,       ,       ,       ,       ,      ...  \n",
      "1549  [      ,       ,       ,       ,       ,      ...  \n",
      "1550  [      ,       ,       ,       ,       ,      ...  \n",
      "1551  [      ,       ,       ,       ,       ,      ...  \n",
      "1552  [      ,       ,       ,       ,       ,      ...  \n",
      "1553  [      ,       ,       ,       ,       ,      ...  \n",
      "1554  [      ,       ,       ,       ,       ,      ...  \n",
      "1555  [      ,       ,       ,       ,       ,      ...  \n",
      "1556  [      ,       ,       ,       ,       ,      ...  \n",
      "1557  [      ,       ,       ,       ,       ,      ...  \n",
      "1558  [      ,       ,       ,       ,       ,      ...  \n",
      "1559  [      ,       ,       ,       ,       ,      ...  \n",
      "1560  [      ,       ,       ,       ,       ,      ...  \n",
      "1561  [      ,       ,       ,       ,       ,      ...  \n",
      "1562  [      ,       ,       ,       ,       ,      ...  \n",
      "1563  [      ,       ,       ,       ,       ,      ...  \n",
      "1564  [      ,       ,       ,       ,       ,      ...  \n",
      "...                                                 ...  \n",
      "3160  [      ,       ,       ,       ,       ,      ...  \n",
      "3161  [      ,       ,       ,       ,       ,      ...  \n",
      "3162  [      ,       ,       ,       ,       ,      ...  \n",
      "3163  [      ,       ,       ,       ,       ,      ...  \n",
      "3164  [      ,       ,       ,       ,       ,      ...  \n",
      "3165  [      ,       ,       ,       ,       ,      ...  \n",
      "3166  [      ,       ,       ,       ,       ,      ...  \n",
      "3167  [      ,       ,       ,       ,       ,      ...  \n",
      "3168  [      ,       ,       ,       ,       ,      ...  \n",
      "3169  [      ,       ,       ,       ,       ,      ...  \n",
      "3170  [      ,       ,       ,       ,       ,      ...  \n",
      "3171  [      ,       ,       ,       ,       ,      ...  \n",
      "3172  [      ,       ,       ,       ,       ,      ...  \n",
      "3173  [      ,       ,       ,       ,       ,      ...  \n",
      "3174  [      ,       ,       ,       ,       ,      ...  \n",
      "3175  [      ,       ,       ,       ,       ,      ...  \n",
      "3176  [      ,       ,       ,       ,       ,      ...  \n",
      "3177  [      ,       ,       ,       ,       ,      ...  \n",
      "3178  [      ,       ,       ,       ,       ,      ...  \n",
      "3179  [      ,       ,       ,       ,       ,      ...  \n",
      "3180  [      ,       ,       ,       ,       ,      ...  \n",
      "3181  [      ,       ,       ,       ,       ,      ...  \n",
      "3182  [      ,       ,       ,       ,       ,      ...  \n",
      "3183  [      ,       ,       ,       ,       ,      ...  \n",
      "3184  [      ,       ,       ,       ,       ,      ...  \n",
      "3185  [      ,       ,       ,       ,       ,      ...  \n",
      "3186  [      ,       ,       ,       ,       ,      ...  \n",
      "3187  [      ,       ,       ,       ,       ,      ...  \n",
      "3188  [      ,       ,       ,       ,       ,      ...  \n",
      "3189  [      ,       ,       ,       ,       ,      ...  \n",
      "\n",
      "[1655 rows x 3 columns])]\n"
     ]
    }
   ],
   "source": [
    "# Check the category of the data by classes\n",
    "grouped = data.groupby('classes')\n",
    "print(list(grouped))\n",
    "\n",
    "# pd.unique(data['classes'])"
   ]
  },
  {
   "cell_type": "code",
   "execution_count": 19,
   "metadata": {},
   "outputs": [],
   "source": [
    "# Split the data into the training and test set, \n",
    "# holding out 20% of the data to test the model.\n",
    "from sklearn.model_selection import train_test_split\n",
    "\n",
    "X_train, X_test, y_train, y_test = train_test_split(X, y_data,\n",
    "                                                   test_size = 0.20,\n",
    "                                                   random_state=42)"
   ]
  },
  {
   "cell_type": "code",
   "execution_count": 20,
   "metadata": {},
   "outputs": [
    {
     "name": "stdout",
     "output_type": "stream",
     "text": [
      "(2552, 100842)\n",
      "(638, 100842)\n"
     ]
    }
   ],
   "source": [
    "print(X_train.shape)\n",
    "print(X_test.shape)"
   ]
  },
  {
   "cell_type": "code",
   "execution_count": 21,
   "metadata": {},
   "outputs": [
    {
     "data": {
      "text/plain": [
       "MultinomialNB(alpha=0.1, class_prior=None, fit_prior=True)"
      ]
     },
     "execution_count": 21,
     "metadata": {},
     "output_type": "execute_result"
    }
   ],
   "source": [
    "# A multinomial naive Bayes classifier will be used.\n",
    "# The n-gram size of 4 and a model alpha of 0.1 did the best.\n",
    "from sklearn.naive_bayes import MultinomialNB\n",
    "\n",
    "classifier = MultinomialNB(alpha=0.1)\n",
    "classifier.fit(X_train, y_train)"
   ]
  },
  {
   "cell_type": "code",
   "execution_count": 22,
   "metadata": {},
   "outputs": [],
   "source": [
    "# Make a predictions on the test set.\n",
    "y_pred = classifier.predict(X_test)"
   ]
  },
  {
   "cell_type": "code",
   "execution_count": 23,
   "metadata": {},
   "outputs": [
    {
     "name": "stdout",
     "output_type": "stream",
     "text": [
      "             precision    recall  f1-score   support\n",
      "\n",
      "         EI       0.50      0.80      0.62       179\n",
      "         IE       0.44      0.77      0.56       140\n",
      "          N       0.73      0.24      0.36       319\n",
      "\n",
      "avg / total       0.60      0.52      0.48       638\n",
      "\n"
     ]
    }
   ],
   "source": [
    "# Look at some model performances\n",
    "from sklearn.metrics import classification_report\n",
    "\n",
    "print(classification_report(y_test, y_pred))"
   ]
  },
  {
   "cell_type": "code",
   "execution_count": 24,
   "metadata": {},
   "outputs": [],
   "source": [
    "# Decision Tree Model\n",
    "from sklearn.tree import DecisionTreeClassifier\n",
    "from sklearn.metrics import confusion_matrix\n",
    "from sklearn import tree"
   ]
  },
  {
   "cell_type": "code",
   "execution_count": 25,
   "metadata": {},
   "outputs": [
    {
     "data": {
      "text/plain": [
       "DecisionTreeClassifier(class_weight=None, criterion='gini', max_depth=None,\n",
       "            max_features=None, max_leaf_nodes=None,\n",
       "            min_impurity_decrease=0.0, min_impurity_split=None,\n",
       "            min_samples_leaf=1, min_samples_split=2,\n",
       "            min_weight_fraction_leaf=0.0, presort=False, random_state=None,\n",
       "            splitter='best')"
      ]
     },
     "execution_count": 25,
     "metadata": {},
     "output_type": "execute_result"
    }
   ],
   "source": [
    "data_clf = DecisionTreeClassifier()\n",
    "data_clf"
   ]
  },
  {
   "cell_type": "code",
   "execution_count": 26,
   "metadata": {},
   "outputs": [
    {
     "data": {
      "text/plain": [
       "DecisionTreeClassifier(class_weight=None, criterion='gini', max_depth=None,\n",
       "            max_features=None, max_leaf_nodes=None,\n",
       "            min_impurity_decrease=0.0, min_impurity_split=None,\n",
       "            min_samples_leaf=1, min_samples_split=2,\n",
       "            min_weight_fraction_leaf=0.0, presort=False, random_state=None,\n",
       "            splitter='best')"
      ]
     },
     "execution_count": 26,
     "metadata": {},
     "output_type": "execute_result"
    }
   ],
   "source": [
    "data_clf = data_clf.fit(X_train, y_train)\n",
    "data_clf"
   ]
  },
  {
   "cell_type": "code",
   "execution_count": 27,
   "metadata": {
    "scrolled": true
   },
   "outputs": [
    {
     "data": {
      "text/plain": [
       "array(['N', 'N', 'IE', 'N', 'IE', 'IE', 'N', 'N', 'EI', 'N', 'N', 'N',\n",
       "       'EI', 'N', 'IE', 'N', 'IE', 'N', 'N', 'EI', 'N', 'N', 'N', 'N',\n",
       "       'N', 'N', 'IE', 'N', 'IE', 'N', 'N', 'N', 'EI', 'N', 'N', 'IE',\n",
       "       'EI', 'N', 'EI', 'N', 'N', 'N', 'N', 'N', 'EI', 'N', 'N', 'N',\n",
       "       'EI', 'N', 'N', 'N', 'N', 'N', 'N', 'N', 'N', 'EI', 'N', 'N', 'N',\n",
       "       'N', 'N', 'N', 'EI', 'IE', 'N', 'N', 'N', 'N', 'IE', 'N', 'N',\n",
       "       'EI', 'N', 'EI', 'IE', 'N', 'N', 'N', 'IE', 'N', 'N', 'N', 'EI',\n",
       "       'EI', 'N', 'N', 'IE', 'EI', 'N', 'IE', 'N', 'N', 'IE', 'N', 'EI',\n",
       "       'N', 'N', 'EI', 'N', 'EI', 'N', 'N', 'N', 'EI', 'EI', 'N', 'IE',\n",
       "       'N', 'N', 'EI', 'N', 'N', 'IE', 'N', 'IE', 'N', 'IE', 'IE', 'N',\n",
       "       'EI', 'N', 'N', 'N', 'N', 'N', 'N', 'N', 'N', 'N', 'N', 'N', 'IE',\n",
       "       'IE', 'N', 'N', 'N', 'IE', 'N', 'N', 'N', 'EI', 'EI', 'N', 'N',\n",
       "       'IE', 'N', 'N', 'IE', 'N', 'EI', 'N', 'N', 'N', 'N', 'N', 'N', 'N',\n",
       "       'N', 'N', 'IE', 'IE', 'N', 'N', 'N', 'IE', 'EI', 'N', 'N', 'N',\n",
       "       'EI', 'N', 'EI', 'IE', 'N', 'EI', 'IE', 'N', 'N', 'EI', 'IE', 'IE',\n",
       "       'EI', 'N', 'N', 'N', 'IE', 'N', 'N', 'N', 'N', 'N', 'N', 'EI', 'N',\n",
       "       'IE', 'N', 'N', 'EI', 'EI', 'N', 'EI', 'N', 'N', 'N', 'N', 'N',\n",
       "       'N', 'N', 'EI', 'N', 'IE', 'IE', 'N', 'N', 'N', 'EI', 'N', 'N',\n",
       "       'N', 'EI', 'EI', 'N', 'N', 'EI', 'EI', 'N', 'N', 'N', 'N', 'IE',\n",
       "       'N', 'N', 'N', 'EI', 'N', 'N', 'N', 'N', 'N', 'N', 'N', 'N', 'N',\n",
       "       'N', 'N', 'N', 'N', 'N', 'N', 'N', 'N', 'N', 'N', 'N', 'N', 'N',\n",
       "       'N', 'EI', 'EI', 'IE', 'N', 'N', 'EI', 'N', 'N', 'EI', 'EI', 'IE',\n",
       "       'IE', 'IE', 'EI', 'N', 'N', 'N', 'N', 'N', 'N', 'N', 'IE', 'EI',\n",
       "       'N', 'N', 'N', 'N', 'N', 'N', 'N', 'N', 'N', 'IE', 'EI', 'EI', 'N',\n",
       "       'IE', 'EI', 'N', 'N', 'N', 'N', 'N', 'N', 'N', 'N', 'N', 'N', 'N',\n",
       "       'N', 'EI', 'N', 'N', 'N', 'N', 'N', 'N', 'N', 'N', 'IE', 'EI',\n",
       "       'IE', 'EI', 'N', 'EI', 'N', 'N', 'IE', 'N', 'N', 'N', 'N', 'N',\n",
       "       'N', 'IE', 'IE', 'EI', 'IE', 'N', 'N', 'N', 'N', 'EI', 'N', 'N',\n",
       "       'N', 'N', 'N', 'N', 'N', 'EI', 'IE', 'N', 'N', 'N', 'N', 'N', 'N',\n",
       "       'EI', 'EI', 'N', 'IE', 'N', 'N', 'N', 'N', 'EI', 'EI', 'EI', 'N',\n",
       "       'N', 'N', 'N', 'N', 'N', 'IE', 'N', 'N', 'N', 'EI', 'EI', 'N', 'N',\n",
       "       'N', 'N', 'N', 'N', 'N', 'N', 'N', 'N', 'IE', 'N', 'N', 'EI', 'N',\n",
       "       'N', 'N', 'N', 'IE', 'N', 'N', 'EI', 'N', 'N', 'N', 'IE', 'N',\n",
       "       'IE', 'N', 'EI', 'N', 'IE', 'N', 'EI', 'IE', 'IE', 'EI', 'IE', 'N',\n",
       "       'IE', 'N', 'N', 'IE', 'N', 'N', 'N', 'N', 'N', 'N', 'N', 'EI', 'N',\n",
       "       'N', 'N', 'IE', 'IE', 'EI', 'EI', 'N', 'N', 'N', 'N', 'EI', 'N',\n",
       "       'IE', 'N', 'N', 'N', 'EI', 'N', 'N', 'IE', 'N', 'IE', 'EI', 'EI',\n",
       "       'N', 'N', 'IE', 'N', 'IE', 'IE', 'IE', 'N', 'N', 'IE', 'N', 'N',\n",
       "       'N', 'IE', 'N', 'IE', 'N', 'N', 'N', 'EI', 'N', 'IE', 'EI', 'N',\n",
       "       'N', 'N', 'N', 'N', 'N', 'N', 'EI', 'N', 'N', 'N', 'N', 'N', 'IE',\n",
       "       'N', 'N', 'N', 'N', 'N', 'IE', 'N', 'N', 'IE', 'N', 'N', 'N', 'IE',\n",
       "       'N', 'EI', 'N', 'EI', 'N', 'N', 'N', 'N', 'N', 'N', 'N', 'N', 'N',\n",
       "       'N', 'EI', 'N', 'N', 'N', 'N', 'N', 'N', 'N', 'N', 'N', 'N', 'N',\n",
       "       'N', 'IE', 'N', 'N', 'N', 'N', 'IE', 'EI', 'IE', 'N', 'N', 'N',\n",
       "       'EI', 'IE', 'N', 'EI', 'EI', 'N', 'N', 'N', 'EI', 'IE', 'IE', 'IE',\n",
       "       'IE', 'IE', 'N', 'N', 'IE', 'N', 'N', 'N', 'N', 'N', 'N', 'IE',\n",
       "       'EI', 'N', 'N', 'EI', 'N', 'IE', 'N', 'N', 'IE', 'N', 'IE', 'N',\n",
       "       'N', 'EI', 'N', 'N', 'EI', 'N', 'N', 'N', 'EI', 'N', 'EI', 'N',\n",
       "       'EI', 'N', 'N', 'N', 'N', 'N', 'EI', 'IE', 'N', 'N', 'N', 'N',\n",
       "       'EI', 'N', 'N', 'N', 'N', 'N', 'EI', 'IE', 'N', 'N', 'N', 'EI',\n",
       "       'N', 'EI', 'N', 'EI', 'N', 'N', 'N', 'EI', 'EI', 'N', 'N', 'EI',\n",
       "       'N', 'N', 'N', 'EI', 'EI', 'EI', 'EI', 'IE', 'N', 'IE'],\n",
       "      dtype=object)"
      ]
     },
     "execution_count": 27,
     "metadata": {},
     "output_type": "execute_result"
    }
   ],
   "source": [
    "data_prediction = data_clf.predict(X_test)\n",
    "data_prediction"
   ]
  },
  {
   "cell_type": "code",
   "execution_count": 28,
   "metadata": {},
   "outputs": [
    {
     "name": "stdout",
     "output_type": "stream",
     "text": [
      "Confusion matrix\n",
      "\n",
      "EI\tIE\tN\n",
      "[[ 91  12  76]\n",
      " [  2  61  77]\n",
      " [ 16  25 278]]\n"
     ]
    }
   ],
   "source": [
    "print(\"Confusion matrix\\n\")\n",
    "print(\"EI\\tIE\\tN\")\n",
    "print(confusion_matrix(y_test, data_prediction))"
   ]
  },
  {
   "cell_type": "code",
   "execution_count": 29,
   "metadata": {},
   "outputs": [
    {
     "name": "stdout",
     "output_type": "stream",
     "text": [
      "             precision    recall  f1-score   support\n",
      "\n",
      "         EI       0.83      0.51      0.63       179\n",
      "         IE       0.62      0.44      0.51       140\n",
      "          N       0.65      0.87      0.74       319\n",
      "\n",
      "avg / total       0.69      0.67      0.66       638\n",
      "\n"
     ]
    }
   ],
   "source": [
    "print(classification_report(y_test, data_prediction))"
   ]
  },
  {
   "cell_type": "code",
   "execution_count": 30,
   "metadata": {},
   "outputs": [],
   "source": [
    "# Random Forest Model\n",
    "from sklearn.metrics import accuracy_score\n",
    "from sklearn.ensemble import RandomForestClassifier"
   ]
  },
  {
   "cell_type": "code",
   "execution_count": 31,
   "metadata": {},
   "outputs": [
    {
     "data": {
      "text/plain": [
       "RandomForestClassifier(bootstrap=True, class_weight=None, criterion='gini',\n",
       "            max_depth=None, max_features=3, max_leaf_nodes=None,\n",
       "            min_impurity_decrease=0.0, min_impurity_split=None,\n",
       "            min_samples_leaf=1, min_samples_split=2,\n",
       "            min_weight_fraction_leaf=0.0, n_estimators=10, n_jobs=1,\n",
       "            oob_score=False, random_state=None, verbose=0,\n",
       "            warm_start=False)"
      ]
     },
     "execution_count": 31,
     "metadata": {},
     "output_type": "execute_result"
    }
   ],
   "source": [
    "randfc = RandomForestClassifier(n_estimators=10, max_features=3)\n",
    "randfc"
   ]
  },
  {
   "cell_type": "code",
   "execution_count": 32,
   "metadata": {},
   "outputs": [
    {
     "name": "stdout",
     "output_type": "stream",
     "text": [
      "[False False False False  True  True False  True  True  True  True False\n",
      "  True  True False False False  True False  True  True  True False False\n",
      "  True False False  True  True  True False  True  True False  True False\n",
      "  True False  True  True  True  True  True  True False  True False  True\n",
      " False  True False  True  True  True  True  True False  True  True False\n",
      " False  True  True False  True  True  True  True  True  True  True  True\n",
      "  True  True  True  True  True False  True  True  True False  True  True\n",
      " False  True  True  True False False  True  True False  True False  True\n",
      "  True  True  True  True  True False  True  True  True  True False  True\n",
      "  True False False False False  True  True False  True  True False False\n",
      " False  True  True  True  True False False  True False  True  True  True\n",
      "  True  True  True False  True  True  True False False False  True False\n",
      " False  True False False False False  True False  True  True False False\n",
      " False False  True False  True False False  True False False  True False\n",
      "  True  True False False  True  True  True  True  True  True False False\n",
      "  True False  True False  True False False False False False  True False\n",
      "  True  True False False False False  True  True False  True  True  True\n",
      "  True  True  True False False  True  True  True False  True  True False\n",
      "  True  True False  True False  True  True False False  True  True  True\n",
      "  True  True  True False  True  True  True False False False  True False\n",
      "  True  True  True False  True  True False False False  True  True  True\n",
      " False False False  True  True  True  True  True False  True  True False\n",
      "  True False  True  True False  True  True False False  True False  True\n",
      "  True  True  True False  True False False False  True  True  True  True\n",
      "  True  True  True  True False False  True False  True False  True  True\n",
      "  True  True False False  True  True False  True  True  True  True  True\n",
      " False  True False False  True False False False  True False  True False\n",
      "  True  True False  True  True  True False  True False False False  True\n",
      "  True  True  True  True  True  True False False False False  True  True\n",
      "  True  True  True False  True  True  True  True  True False False  True\n",
      "  True False False  True False False  True False  True False  True  True\n",
      "  True  True  True  True False  True  True False  True  True False  True\n",
      " False  True  True  True False  True  True  True  True  True False  True\n",
      " False  True False  True  True  True  True  True  True  True  True  True\n",
      "  True False  True  True False  True  True False False False  True  True\n",
      "  True  True  True  True  True  True False False False False  True False\n",
      "  True  True  True False  True False False  True  True  True False  True\n",
      " False False  True  True  True False False  True  True False False False\n",
      " False False False False  True  True False  True False  True  True False\n",
      "  True  True  True False False  True False  True  True  True  True False\n",
      "  True  True False  True False  True False  True False  True False False\n",
      " False  True False  True  True  True  True  True  True False  True False\n",
      "  True  True  True  True  True  True  True False  True False False  True\n",
      " False  True  True False  True  True  True False  True  True False  True\n",
      "  True  True  True  True  True  True False  True False  True  True False\n",
      "  True False  True  True  True  True  True False  True False  True  True\n",
      "  True  True False  True  True  True  True False False False False False\n",
      "  True  True  True False  True  True  True  True  True  True  True  True\n",
      "  True  True False  True  True  True  True  True  True  True False  True\n",
      "  True  True  True  True  True  True False  True False  True  True  True\n",
      "  True False False  True  True  True False  True  True False  True False\n",
      "  True False  True False  True  True  True False False False False  True\n",
      " False False False  True False False  True  True  True False False  True\n",
      "  True  True]\n"
     ]
    }
   ],
   "source": [
    "randfc.fit(X_train, y_train)\n",
    "prediction = randfc.predict(X_test)\n",
    "print(prediction == y_test)"
   ]
  },
  {
   "cell_type": "code",
   "execution_count": 33,
   "metadata": {},
   "outputs": [
    {
     "data": {
      "text/plain": [
       "0.6238244514106583"
      ]
     },
     "execution_count": 33,
     "metadata": {},
     "output_type": "execute_result"
    }
   ],
   "source": [
    "randfc.score(X_test, y_test)"
   ]
  },
  {
   "cell_type": "code",
   "execution_count": 34,
   "metadata": {},
   "outputs": [
    {
     "name": "stdout",
     "output_type": "stream",
     "text": [
      "             precision    recall  f1-score   support\n",
      "\n",
      "         EI       0.34      0.73      0.47        83\n",
      "         IE       0.30      0.82      0.44        51\n",
      "          N       0.92      0.59      0.72       504\n",
      "\n",
      "avg / total       0.80      0.62      0.66       638\n",
      "\n"
     ]
    }
   ],
   "source": [
    "print(classification_report(prediction, y_test))"
   ]
  },
  {
   "cell_type": "code",
   "execution_count": 35,
   "metadata": {},
   "outputs": [],
   "source": [
    "# Multiple Neural Networks\n",
    "from sklearn.neural_network import MLPClassifier\n",
    "\n",
    "mlp = MLPClassifier(hidden_layer_sizes=(10, 10, 10))"
   ]
  },
  {
   "cell_type": "code",
   "execution_count": 36,
   "metadata": {},
   "outputs": [
    {
     "data": {
      "text/plain": [
       "MLPClassifier(activation='relu', alpha=0.0001, batch_size='auto', beta_1=0.9,\n",
       "       beta_2=0.999, early_stopping=False, epsilon=1e-08,\n",
       "       hidden_layer_sizes=(10, 10, 10), learning_rate='constant',\n",
       "       learning_rate_init=0.001, max_iter=200, momentum=0.9,\n",
       "       nesterovs_momentum=True, power_t=0.5, random_state=None,\n",
       "       shuffle=True, solver='adam', tol=0.0001, validation_fraction=0.1,\n",
       "       verbose=False, warm_start=False)"
      ]
     },
     "execution_count": 36,
     "metadata": {},
     "output_type": "execute_result"
    }
   ],
   "source": [
    "mlp.fit(X_train, y_train)"
   ]
  },
  {
   "cell_type": "code",
   "execution_count": 37,
   "metadata": {},
   "outputs": [],
   "source": [
    "predictions = mlp.predict(X_test)"
   ]
  },
  {
   "cell_type": "code",
   "execution_count": 38,
   "metadata": {},
   "outputs": [
    {
     "name": "stdout",
     "output_type": "stream",
     "text": [
      "Confusion matrix\n",
      "\n",
      "EI\tIE\tN\n",
      "[[109  10  60]\n",
      " [  9  82  49]\n",
      " [ 44  49 226]]\n"
     ]
    }
   ],
   "source": [
    "print(\"Confusion matrix\\n\")\n",
    "print(\"EI\\tIE\\tN\")\n",
    "print(confusion_matrix(y_test, predictions))"
   ]
  },
  {
   "cell_type": "code",
   "execution_count": 39,
   "metadata": {},
   "outputs": [
    {
     "name": "stdout",
     "output_type": "stream",
     "text": [
      "             precision    recall  f1-score   support\n",
      "\n",
      "         EI       0.67      0.61      0.64       179\n",
      "         IE       0.58      0.59      0.58       140\n",
      "          N       0.67      0.71      0.69       319\n",
      "\n",
      "avg / total       0.65      0.65      0.65       638\n",
      "\n"
     ]
    }
   ],
   "source": [
    "print(classification_report(y_test, predictions))"
   ]
  },
  {
   "cell_type": "code",
   "execution_count": null,
   "metadata": {},
   "outputs": [],
   "source": []
  }
 ],
 "metadata": {
  "kernelspec": {
   "display_name": "Python 3",
   "language": "python",
   "name": "python3"
  },
  "language_info": {
   "codemirror_mode": {
    "name": "ipython",
    "version": 3
   },
   "file_extension": ".py",
   "mimetype": "text/x-python",
   "name": "python",
   "nbconvert_exporter": "python",
   "pygments_lexer": "ipython3",
   "version": "3.6.5"
  }
 },
 "nbformat": 4,
 "nbformat_minor": 2
}
